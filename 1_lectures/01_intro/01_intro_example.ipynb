{
 "cells": [
  {
   "cell_type": "markdown",
   "metadata": {
    "slideshow": {
     "slide_type": "slide"
    }
   },
   "source": [
    "#  Introduction\n",
    "\n",
    "### Econometrics A (ØkA)\n",
    "\n",
    "Wooldridge (Ch. 1)\n",
    "\n",
    "Bertel Schjerning\n",
    "\n",
    "Department of Economics, University of Copenhagen\n"
   ]
  },
  {
   "cell_type": "markdown",
   "metadata": {
    "slideshow": {
     "slide_type": "slide"
    }
   },
   "source": [
    "# Estimation af model for consumer cemand"
   ]
  },
  {
   "cell_type": "markdown",
   "metadata": {
    "slideshow": {
     "slide_type": "slide"
    }
   },
   "source": [
    "## Modellering af Markedsandele: Flere Markeder og Produkter\n",
    "\n",
    "**Nyttefunktion for Forbruger $i$, Produkt $j$ i Marked $m$:**\n",
    "$$\n",
    "U_{imj} = \\beta \\mathbf{x}_{mj} - \\alpha p_{mj} + \\xi_{mj} + \\epsilon_{imj}\n",
    "$$\n",
    "\n",
    "- $\\mathbf{x}_{mj}$: Observerbare karakteristika for produkt $j$ i marked $m$ (f.eks. størrelse, kvalitet).\n",
    "- $p_{mj}$: Pris for produkt $j$ i marked $m$.\n",
    "- $\\xi_{mj}$: Uobserverbare karakteristika (f.eks. brand, placering).\n",
    "- $\\epsilon_{imj}$: Idiosynkratisk fejlled, der følger en ekstremværdi fordeling (Gumbel).\n",
    "\n",
    "**Beslutningsregel:**\n",
    "- Forbruger $i$ vælger det produkt, der maksimerer nytten:\n",
    "$$\n",
    "j^* = \\arg \\max_j \\ U_{imj} \\quad \\text{for alle } j \\text{ i marked } m\n",
    "$$\n"
   ]
  },
  {
   "cell_type": "markdown",
   "metadata": {
    "slideshow": {
     "slide_type": "slide"
    }
   },
   "source": [
    "## Logit-Efterspørgselsfunktion og Markedsandele\n",
    "\n",
    "**Efterspørgselsfunktion for Produkt $j$ i Marked $m$:**\n",
    "$$\n",
    "S_{mj} = \\frac{\\exp(\\beta \\mathbf{x}_{mj} - \\alpha p_{mj} + \\xi_{mj})}{\\sum_{k=1}^{J} \\exp(\\beta \\mathbf{x}_{mk} - \\alpha p_{mk} + \\xi_{mk})}\n",
    "$$\n",
    "\n",
    "**Log-Lineariseret Efterspørgsel:**\n",
    "$$\n",
    "\\log(S_{mj}) - \\log(S_{m0}) = \\beta \\mathbf{x}_{mj} - \\alpha p_{mj} + \\xi_{mj}\n",
    "$$\n",
    "\n",
    "**Vi kan estimere $\\alpha$ og $\\beta$**, som koefficienterne i ovenstående lineære model\n",
    "\n",
    "\n",
    "**Hvordan Annulleres Log-Summen?**\n",
    "- Ved at trække log-markedsandelen for outside-alternativet fra, elimineres summen i nævneren.\n",
    "- Dette giver en lineær model i log-markedsandele.\n",
    "\n",
    "\n"
   ]
  },
  {
   "cell_type": "markdown",
   "metadata": {
    "slideshow": {
     "slide_type": "slide"
    }
   },
   "source": [
    "### Indlæs relevante libraries "
   ]
  },
  {
   "cell_type": "code",
   "execution_count": null,
   "metadata": {},
   "outputs": [],
   "source": [
    "pip install statsmodels\n",
    "pip install linearmodels\n",
    "pip install matplotlib\n",
    "pip install seaborn"
   ]
  },
  {
   "cell_type": "code",
   "execution_count": null,
   "metadata": {},
   "outputs": [],
   "source": [
    "import pandas as pd\n",
    "import numpy as np\n",
    "import statsmodels.api as sm\n",
    "pd.set_option('display.float_format', '{:.8f}'.format)"
   ]
  },
  {
   "cell_type": "markdown",
   "metadata": {
    "slideshow": {
     "slide_type": "slide"
    }
   },
   "source": [
    "### Indlæs data"
   ]
  },
  {
   "cell_type": "code",
   "execution_count": 12,
   "metadata": {},
   "outputs": [],
   "source": [
    "df = pd.read_csv(\"data/data_blp.csv\")\n",
    "df[\"prices\"] = df[\"msrp\"]\n",
    "df[\"market_ids\"] = df[\"year\"]\n",
    "yearly_sales = df.groupby(\"year\")[\"sales\"].sum()\n",
    "#Based on the fact that ever household has 2 cars, and buys a new car every 5 year. (1 new car every 2,5 years)\n",
    "df[\"shares\"] = df.apply(lambda x: x[\"sales\"] / (x[\"number_households\"] / 2.5), axis=1)"
   ]
  },
  {
   "cell_type": "markdown",
   "metadata": {
    "slideshow": {
     "slide_type": "slide"
    }
   },
   "source": [
    "### Transformer variable "
   ]
  },
  {
   "cell_type": "code",
   "execution_count": 13,
   "metadata": {},
   "outputs": [],
   "source": [
    "no_car_share = 1 - df.groupby(\"year\")[\"shares\"].sum() # Based on the observed market share and the market size, how big is the no-new car share\n",
    "df[\"dlogS\"] = df.apply(lambda x: np.log(x[\"shares\"]) - np.log(no_car_share[x[\"year\"]]), axis=1) # difference in the log of market share of a given car and no-new car share"
   ]
  },
  {
   "cell_type": "code",
   "execution_count": 14,
   "metadata": {},
   "outputs": [],
   "source": [
    "endogen_var = [\"prices\"] # Endogen variable\n",
    "exogen_cont_vars = [ # Exogen continuous variables \n",
    "    \"log_height\",\n",
    "    \"log_footprint\",\n",
    "    \"log_hp\",\n",
    "    \"log_mpg\",\n",
    "    \"log_curbweight\",\n",
    "    \"log_number_trims\"\n",
    "] \n",
    "exogen_discrete_vars = [ # Exogen discrete variables\n",
    "    \"releaseYear\",\n",
    "    \"yearsSinceDesign\",\n",
    "    \"sport\",\n",
    "    \"EV\",\n",
    "    \"truck\",\n",
    "    \"suv\",\n",
    "    \"van\"\n",
    "]"
   ]
  },
  {
   "cell_type": "code",
   "execution_count": 15,
   "metadata": {},
   "outputs": [],
   "source": [
    "#Scale prices from 1000$ unit to 10.000$\n",
    "df[\"prices\"] = df[\"prices\"] * 0.1\n",
    "year_dummies = pd.get_dummies(df[\"year\"]).drop(columns=[1980]) # Including dummies for make (brand/producer) and each manufacturing year.\n",
    "make_dummies = pd.get_dummies(df[\"make\"]).drop(columns=[\"volvo\"])"
   ]
  },
  {
   "cell_type": "markdown",
   "metadata": {
    "slideshow": {
     "slide_type": "slide"
    }
   },
   "source": [
    "### Estimate model"
   ]
  },
  {
   "cell_type": "code",
   "execution_count": 16,
   "metadata": {},
   "outputs": [
    {
     "name": "stdout",
     "output_type": "stream",
     "text": [
      "                            OLS Regression Results                            \n",
      "==============================================================================\n",
      "Dep. Variable:                  dlogS   R-squared:                       0.589\n",
      "Model:                            OLS   Adj. R-squared:                  0.584\n",
      "Method:                 Least Squares   F-statistic:                     146.4\n",
      "Date:                Mon, 02 Sep 2024   Prob (F-statistic):               0.00\n",
      "Time:                        09:13:45   Log-Likelihood:                -15978.\n",
      "No. Observations:                9694   AIC:                         3.218e+04\n",
      "Df Residuals:                    9580   BIC:                         3.300e+04\n",
      "Df Model:                         113                                         \n",
      "Covariance Type:                  HC1                                         \n",
      "====================================================================================\n",
      "                       coef    std err          z      P>|z|      [0.025      0.975]\n",
      "------------------------------------------------------------------------------------\n",
      "const              -15.8955      1.814     -8.762      0.000     -19.451     -12.340\n",
      "log_height          -0.8707      0.272     -3.198      0.001      -1.404      -0.337\n",
      "log_footprint        2.0209      0.241      8.370      0.000       1.548       2.494\n",
      "log_hp               0.3750      0.101      3.706      0.000       0.177       0.573\n",
      "log_mpg             -0.1240      0.114     -1.089      0.276      -0.347       0.099\n",
      "log_curbweight      -0.9774      0.212     -4.608      0.000      -1.393      -0.562\n",
      "log_number_trims     1.1894      0.021     55.972      0.000       1.148       1.231\n",
      "releaseYear         -0.4066      0.050     -8.159      0.000      -0.504      -0.309\n",
      "yearsSinceDesign    -0.1103      0.006    -19.532      0.000      -0.121      -0.099\n",
      "sport               -0.5421      0.055     -9.889      0.000      -0.650      -0.435\n",
      "EV                  -0.9817      0.196     -4.998      0.000      -1.367      -0.597\n",
      "truck               -0.6425      0.070     -9.128      0.000      -0.781      -0.505\n",
      "suv                  0.5092      0.059      8.603      0.000       0.393       0.625\n",
      "van                 -0.0639      0.083     -0.769      0.442      -0.227       0.099\n",
      "prices              -0.3367      0.017    -19.620      0.000      -0.370      -0.303\n",
      "1981                 0.0846      0.129      0.655      0.512      -0.168       0.338\n",
      "1982                -0.7079      0.115     -6.153      0.000      -0.933      -0.482\n",
      "1983                 0.3905      0.116      3.367      0.001       0.163       0.618\n",
      "1984                 0.1207      0.111      1.088      0.277      -0.097       0.338\n",
      "1985                 0.1848      0.113      1.635      0.102      -0.037       0.406\n",
      "1986                 0.1309      0.114      1.151      0.250      -0.092       0.354\n",
      "1987                 0.2178      0.111      1.971      0.049       0.001       0.434\n",
      "1988                 0.0959      0.132      0.725      0.468      -0.163       0.355\n",
      "1989                -0.2394      0.125     -1.922      0.055      -0.484       0.005\n",
      "1990                -0.3734      0.127     -2.933      0.003      -0.623      -0.124\n",
      "1991                -0.5298      0.122     -4.356      0.000      -0.768      -0.291\n",
      "1992                -0.4846      0.121     -3.994      0.000      -0.722      -0.247\n",
      "1993                -0.5035      0.127     -3.969      0.000      -0.752      -0.255\n",
      "1994                -0.2534      0.128     -1.983      0.047      -0.504      -0.003\n",
      "1995                -0.4396      0.138     -3.191      0.001      -0.710      -0.170\n",
      "1996                -0.3472      0.135     -2.566      0.010      -0.612      -0.082\n",
      "1997                -0.2757      0.123     -2.236      0.025      -0.517      -0.034\n",
      "1998                -0.4593      0.139     -3.316      0.001      -0.731      -0.188\n",
      "1999                -0.4404      0.142     -3.097      0.002      -0.719      -0.162\n",
      "2000                -0.2363      0.127     -1.859      0.063      -0.485       0.013\n",
      "2001                -0.4404      0.134     -3.278      0.001      -0.704      -0.177\n",
      "2002                -0.6316      0.138     -4.590      0.000      -0.901      -0.362\n",
      "2003                -0.7875      0.138     -5.686      0.000      -1.059      -0.516\n",
      "2004                -0.7853      0.132     -5.947      0.000      -1.044      -0.526\n",
      "2005                -0.8133      0.131     -6.210      0.000      -1.070      -0.557\n",
      "2006                -1.1306      0.147     -7.706      0.000      -1.418      -0.843\n",
      "2007                -1.2809      0.145     -8.814      0.000      -1.566      -0.996\n",
      "2008                -1.5502      0.132    -11.728      0.000      -1.809      -1.291\n",
      "2009                -1.9120      0.132    -14.463      0.000      -2.171      -1.653\n",
      "2010                -1.9459      0.141    -13.809      0.000      -2.222      -1.670\n",
      "2011                -1.6746      0.139    -12.006      0.000      -1.948      -1.401\n",
      "2012                -1.6200      0.141    -11.472      0.000      -1.897      -1.343\n",
      "2013                -1.5824      0.141    -11.260      0.000      -1.858      -1.307\n",
      "2014                -1.5848      0.140    -11.323      0.000      -1.859      -1.311\n",
      "2015                -1.6347      0.142    -11.477      0.000      -1.914      -1.356\n",
      "2016                -1.6845      0.145    -11.583      0.000      -1.970      -1.399\n",
      "2017                -1.9093      0.151    -12.604      0.000      -2.206      -1.612\n",
      "2018                -1.8203      0.145    -12.578      0.000      -2.104      -1.537\n",
      "acura                0.7847      0.142      5.519      0.000       0.506       1.063\n",
      "alfa romeo          -1.5860      0.190     -8.368      0.000      -1.957      -1.215\n",
      "amc                 -0.3530      0.218     -1.616      0.106      -0.781       0.075\n",
      "audi                 0.0144      0.110      0.131      0.896      -0.200       0.229\n",
      "austin-rover         0.1024      0.110      0.928      0.354      -0.114       0.319\n",
      "bmw                  1.1473      0.097     11.801      0.000       0.957       1.338\n",
      "buick                0.7053      0.120      5.874      0.000       0.470       0.941\n",
      "cadillac             1.0968      0.120      9.159      0.000       0.862       1.331\n",
      "chevrolet            1.0252      0.099     10.367      0.000       0.831       1.219\n",
      "chrysler             0.9237      0.112      8.232      0.000       0.704       1.144\n",
      "daewoo              -1.0411      0.251     -4.147      0.000      -1.533      -0.549\n",
      "daihatsu            -1.7004      0.294     -5.780      0.000      -2.277      -1.124\n",
      "datsun               1.6245      0.395      4.108      0.000       0.849       2.399\n",
      "delorean             0.3116      0.130      2.388      0.017       0.056       0.567\n",
      "dodge                0.5048      0.101      4.979      0.000       0.306       0.704\n",
      "eagle               -0.6145      0.228     -2.698      0.007      -1.061      -0.168\n",
      "fiat                -0.0610      0.218     -0.280      0.780      -0.489       0.367\n",
      "ford                 1.2440      0.092     13.481      0.000       1.063       1.425\n",
      "genesis             -0.0173      0.199     -0.087      0.931      -0.407       0.372\n",
      "geo                  1.0873      0.257      4.236      0.000       0.584       1.590\n",
      "gmc                  0.0137      0.114      0.120      0.904      -0.209       0.236\n",
      "honda                0.9059      0.116      7.786      0.000       0.678       1.134\n",
      "hummer               0.8189      0.377      2.172      0.030       0.080       1.558\n",
      "hyundai              0.5027      0.114      4.405      0.000       0.279       0.726\n",
      "infiniti             0.3609      0.134      2.704      0.007       0.099       0.623\n",
      "isuzu               -1.1426      0.160     -7.122      0.000      -1.457      -0.828\n",
      "jaguar               0.5214      0.154      3.390      0.001       0.220       0.823\n",
      "jeep                 0.8944      0.113      7.948      0.000       0.674       1.115\n",
      "kia                  0.6205      0.116      5.329      0.000       0.392       0.849\n",
      "lancia              -1.4473      0.271     -5.335      0.000      -1.979      -0.916\n",
      "land rover           0.6077      0.160      3.803      0.000       0.294       0.921\n",
      "lexus                1.5833      0.115     13.787      0.000       1.358       1.808\n",
      "lincoln              1.1684      0.116     10.081      0.000       0.941       1.396\n",
      "mazda                0.2580      0.112      2.310      0.021       0.039       0.477\n",
      "mercedes-benz        1.0808      0.110      9.807      0.000       0.865       1.297\n",
      "mercury              0.5221      0.114      4.581      0.000       0.299       0.745\n",
      "merkur              -0.2829      0.364     -0.778      0.436      -0.996       0.430\n",
      "mg                   0.6439      0.139      4.620      0.000       0.371       0.917\n",
      "mini                 0.2188      0.226      0.970      0.332      -0.223       0.661\n",
      "mitsubishi          -0.2650      0.107     -2.478      0.013      -0.475      -0.055\n",
      "nissan               0.7230      0.102      7.110      0.000       0.524       0.922\n",
      "oldsmobile           0.2376      0.151      1.570      0.116      -0.059       0.534\n",
      "peugeot             -1.4309      0.286     -5.000      0.000      -1.992      -0.870\n",
      "plymouth             0.4853      0.151      3.219      0.001       0.190       0.781\n",
      "pontiac              0.4508      0.121      3.730      0.000       0.214       0.688\n",
      "porsche              0.7285      0.133      5.498      0.000       0.469       0.988\n",
      "ram                  0.3715      0.173      2.142      0.032       0.032       0.711\n",
      "renault             -0.1195      0.294     -0.407      0.684      -0.695       0.456\n",
      "rover               -1.3989      0.126    -11.093      0.000      -1.646      -1.152\n",
      "saab                -0.5147      0.130     -3.953      0.000      -0.770      -0.259\n",
      "saturn              -0.1070      0.218     -0.490      0.624      -0.534       0.320\n",
      "scion                1.3318      0.196      6.783      0.000       0.947       1.717\n",
      "smart                0.2696      0.345      0.782      0.434      -0.406       0.946\n",
      "sterling cars       -1.3449      0.305     -4.405      0.000      -1.943      -0.747\n",
      "subaru               0.1071      0.120      0.893      0.372      -0.128       0.342\n",
      "suzuki              -1.4131      0.147     -9.594      0.000      -1.702      -1.124\n",
      "tesla                2.5796      0.462      5.584      0.000       1.674       3.485\n",
      "toyota               0.9091      0.096      9.421      0.000       0.720       1.098\n",
      "triumph             -0.1243      0.129     -0.964      0.335      -0.377       0.128\n",
      "volkswagen           0.1509      0.105      1.444      0.149      -0.054       0.356\n",
      "yugo                -1.0957      0.484     -2.262      0.024      -2.045      -0.146\n",
      "==============================================================================\n",
      "Omnibus:                     2409.607   Durbin-Watson:                   1.865\n",
      "Prob(Omnibus):                  0.000   Jarque-Bera (JB):             7648.037\n",
      "Skew:                          -1.263   Prob(JB):                         0.00\n",
      "Kurtosis:                       6.544   Cond. No.                     2.09e+03\n",
      "==============================================================================\n",
      "\n",
      "Notes:\n",
      "[1] Standard Errors are heteroscedasticity robust (HC1)\n",
      "[2] The condition number is large, 2.09e+03. This might indicate that there are\n",
      "strong multicollinearity or other numerical problems.\n"
     ]
    },
    {
     "name": "stderr",
     "output_type": "stream",
     "text": [
      "/Users/fzp386/opt/anaconda3/lib/python3.9/site-packages/statsmodels/base/model.py:1871: ValueWarning: covariance of constraints does not have full rank. The number of constraints is 113, but rank is 109\n",
      "  warnings.warn('covariance of constraints does not have full '\n"
     ]
    }
   ],
   "source": [
    "y = df[\"dlogS\"] \n",
    "X = pd.concat([df[exogen_cont_vars + exogen_discrete_vars + endogen_var], year_dummies, make_dummies], axis=1)\n",
    "X = sm.add_constant(X)  # Adds a constant term for the intercept\n",
    "for column in X.columns:\n",
    "    if X[column].dtype == bool:\n",
    "        X[column] = X[column].astype(int)\n",
    "model = sm.OLS(y, X).fit(cov_type='HC1')\n",
    "print(model.summary())"
   ]
  },
  {
   "cell_type": "markdown",
   "metadata": {
    "slideshow": {
     "slide_type": "slide"
    }
   },
   "source": [
    "### Beregn egenpriselasticitet\n",
    "\n",
    "For at beregne egenpriselasticiteten bruger vi følgende udtryk baseret på estimaterne fra vores logit-model:\n",
    "\n",
    "$$\n",
    "\\text{Elasticitet} = \\alpha \\cdot \\text{Pris} \\cdot (1 - \\text{Markedsandel})\n",
    "$$"
   ]
  },
  {
   "cell_type": "code",
   "execution_count": 21,
   "metadata": {},
   "outputs": [
    {
     "name": "stdout",
     "output_type": "stream",
     "text": [
      "Egenpris elasticitet = -1.2121931691993502\n"
     ]
    }
   ],
   "source": [
    "alpha = model.params[\"prices\"]\n",
    "df[\"elasticity\"] = df.apply(lambda x: alpha * x[\"prices\"] * (1 - x[\"shares\"]) , axis=1)\n",
    "print(f\"Egenpris elasticitet = {df['elasticity'].mean()}\")"
   ]
  }
 ],
 "metadata": {
  "celltoolbar": "Slideshow",
  "date": 1602643870.398518,
  "filename": "38_optimization.rst",
  "kernelspec": {
   "display_name": "base",
   "language": "python",
   "name": "python3"
  },
  "language_info": {
   "codemirror_mode": {
    "name": "ipython",
    "version": 3
   },
   "file_extension": ".py",
   "mimetype": "text/x-python",
   "name": "python",
   "nbconvert_exporter": "python",
   "pygments_lexer": "ipython3",
   "version": "3.13.5"
  },
  "title": "Foundations of Computational Economics #38"
 },
 "nbformat": 4,
 "nbformat_minor": 4
}
